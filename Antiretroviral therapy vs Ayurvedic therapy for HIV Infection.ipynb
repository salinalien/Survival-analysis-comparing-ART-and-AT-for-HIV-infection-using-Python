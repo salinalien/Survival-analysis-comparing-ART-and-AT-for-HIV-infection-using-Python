{
 "cells": [
  {
   "attachments": {},
   "cell_type": "markdown",
   "metadata": {},
   "source": [
    "# Survival analysis of Antiretroviral therapy (ART) vs Ayurvedic therapy (AT) for HIV infection"
   ]
  },
  {
   "attachments": {},
   "cell_type": "markdown",
   "metadata": {},
   "source": [
    "# Variables\n",
    "- \"Time of event\" = Time in days\n",
    "- \"Total no. of patients died in both groups\" = Total number of patients that have died \n",
    "- \"No of patients died - ART group\" = Number of patients that died in the ART group\n",
    "- \"No of patients died - AT group\" = Number of patients that died in the AT group\n",
    "- \"Live at start of day\" = Number of patients alive at the start of the day"
   ]
  },
  {
   "cell_type": "code",
   "execution_count": 76,
   "metadata": {},
   "outputs": [],
   "source": [
    "import pandas as pandaboi\n",
    "import numpy as np\n",
    "import matplotlib as mpl\n",
    "import matplotlib.pyplot as plt\n",
    "from lifelines import KaplanMeierFitter"
   ]
  },
  {
   "cell_type": "code",
   "execution_count": 77,
   "metadata": {},
   "outputs": [],
   "source": [
    "DIRECTORY_PATH = '/Users/salinalien/Downloads'\n",
    "FILE_NAME = \"Antiretroviral therapy vs Ayurvedic therapy for HIV Infection.csv\""
   ]
  },
  {
   "cell_type": "code",
   "execution_count": 78,
   "metadata": {},
   "outputs": [
    {
     "data": {
      "text/html": [
       "<div>\n",
       "<style scoped>\n",
       "    .dataframe tbody tr th:only-of-type {\n",
       "        vertical-align: middle;\n",
       "    }\n",
       "\n",
       "    .dataframe tbody tr th {\n",
       "        vertical-align: top;\n",
       "    }\n",
       "\n",
       "    .dataframe thead th {\n",
       "        text-align: right;\n",
       "    }\n",
       "</style>\n",
       "<table border=\"1\" class=\"dataframe\">\n",
       "  <thead>\n",
       "    <tr style=\"text-align: right;\">\n",
       "      <th></th>\n",
       "      <th>Time of event</th>\n",
       "      <th>Total no. of patients died in both groups</th>\n",
       "      <th>No of patients died - ART group</th>\n",
       "      <th>No of patients died - AT group</th>\n",
       "      <th>Live at start of day</th>\n",
       "    </tr>\n",
       "  </thead>\n",
       "  <tbody>\n",
       "    <tr>\n",
       "      <th>0</th>\n",
       "      <td>6</td>\n",
       "      <td>1</td>\n",
       "      <td>1</td>\n",
       "      <td>0</td>\n",
       "      <td>46</td>\n",
       "    </tr>\n",
       "    <tr>\n",
       "      <th>1</th>\n",
       "      <td>9</td>\n",
       "      <td>1</td>\n",
       "      <td>0</td>\n",
       "      <td>1</td>\n",
       "      <td>45</td>\n",
       "    </tr>\n",
       "    <tr>\n",
       "      <th>2</th>\n",
       "      <td>12</td>\n",
       "      <td>1</td>\n",
       "      <td>1</td>\n",
       "      <td>0</td>\n",
       "      <td>44</td>\n",
       "    </tr>\n",
       "    <tr>\n",
       "      <th>3</th>\n",
       "      <td>13</td>\n",
       "      <td>1</td>\n",
       "      <td>0</td>\n",
       "      <td>1</td>\n",
       "      <td>43</td>\n",
       "    </tr>\n",
       "    <tr>\n",
       "      <th>4</th>\n",
       "      <td>21</td>\n",
       "      <td>1</td>\n",
       "      <td>1</td>\n",
       "      <td>0</td>\n",
       "      <td>42</td>\n",
       "    </tr>\n",
       "  </tbody>\n",
       "</table>\n",
       "</div>"
      ],
      "text/plain": [
       "   Time of event  Total no. of patients died in both groups  \\\n",
       "0              6                                          1   \n",
       "1              9                                          1   \n",
       "2             12                                          1   \n",
       "3             13                                          1   \n",
       "4             21                                          1   \n",
       "\n",
       "   No of patients died - ART group  No of patients died - AT group  \\\n",
       "0                                1                               0   \n",
       "1                                0                               1   \n",
       "2                                1                               0   \n",
       "3                                0                               1   \n",
       "4                                1                               0   \n",
       "\n",
       "   Live at start of day  \n",
       "0                    46  \n",
       "1                    45  \n",
       "2                    44  \n",
       "3                    43  \n",
       "4                    42  "
      ]
     },
     "execution_count": 78,
     "metadata": {},
     "output_type": "execute_result"
    }
   ],
   "source": [
    "# Load data\n",
    "df = pandaboi.read_csv(FILE_NAME, sep = \";\")\n",
    "df.head()"
   ]
  },
  {
   "attachments": {},
   "cell_type": "markdown",
   "metadata": {},
   "source": [
    "# Data preprocessing\n",
    "1. Check for missing data\n",
    "2. Check data type"
   ]
  },
  {
   "cell_type": "code",
   "execution_count": 79,
   "metadata": {},
   "outputs": [
    {
     "data": {
      "text/plain": [
       "Time of event                                0.0\n",
       "Total no. of patients died in both groups    0.0\n",
       "No of patients died - ART group              0.0\n",
       "No of patients died - AT group               0.0\n",
       "Live at start of day                         0.0\n",
       "dtype: float64"
      ]
     },
     "execution_count": 79,
     "metadata": {},
     "output_type": "execute_result"
    }
   ],
   "source": [
    "# Check for missing data\n",
    "df.isnull().sum() / df.shape[0] * 100"
   ]
  },
  {
   "cell_type": "code",
   "execution_count": 80,
   "metadata": {},
   "outputs": [
    {
     "name": "stdout",
     "output_type": "stream",
     "text": [
      "<class 'pandas.core.frame.DataFrame'>\n",
      "RangeIndex: 27 entries, 0 to 26\n",
      "Data columns (total 5 columns):\n",
      " #   Column                                     Non-Null Count  Dtype\n",
      "---  ------                                     --------------  -----\n",
      " 0   Time of event                              27 non-null     int64\n",
      " 1   Total no. of patients died in both groups  27 non-null     int64\n",
      " 2   No of patients died - ART group            27 non-null     int64\n",
      " 3   No of patients died - AT group             27 non-null     int64\n",
      " 4   Live at start of day                       27 non-null     int64\n",
      "dtypes: int64(5)\n",
      "memory usage: 1.2 KB\n"
     ]
    }
   ],
   "source": [
    "# Check data type\n",
    "df.info()"
   ]
  },
  {
   "attachments": {},
   "cell_type": "markdown",
   "metadata": {},
   "source": [
    "# Kaplan Meieir function and curve"
   ]
  },
  {
   "cell_type": "code",
   "execution_count": 81,
   "metadata": {},
   "outputs": [
    {
     "name": "stdout",
     "output_type": "stream",
     "text": [
      "    Time of event  Total no. of patients died in both groups  \\\n",
      "0               6                                          1   \n",
      "1               9                                          1   \n",
      "2              12                                          1   \n",
      "3              13                                          1   \n",
      "4              21                                          1   \n",
      "5              27                                          2   \n",
      "6              32                                          1   \n",
      "7              38                                          1   \n",
      "8              39                                          1   \n",
      "9              43                                          2   \n",
      "10             49                                          2   \n",
      "11             89                                          1   \n",
      "12             93                                          1   \n",
      "13            105                                          1   \n",
      "14            126                                          1   \n",
      "15            114                                          1   \n",
      "16            218                                          1   \n",
      "17            245                                          2   \n",
      "18            251                                          2   \n",
      "19            253                                          1   \n",
      "20            254                                          2   \n",
      "21            261                                          1   \n",
      "22            263                                          1   \n",
      "23            270                                          1   \n",
      "24            301                                          1   \n",
      "25            311                                          1   \n",
      "26            333                                          1   \n",
      "\n",
      "    No of patients died - ART group  No of patients died - AT group  \\\n",
      "0                                 1                               0   \n",
      "1                                 0                               1   \n",
      "2                                 1                               0   \n",
      "3                                 0                               1   \n",
      "4                                 1                               0   \n",
      "5                                 1                               1   \n",
      "6                                 0                               1   \n",
      "7                                 0                               1   \n",
      "8                                 1                               0   \n",
      "9                                 2                               0   \n",
      "10                                0                               2   \n",
      "11                                1                               0   \n",
      "12                                0                               1   \n",
      "13                                1                               0   \n",
      "14                                0                               1   \n",
      "15                                1                               0   \n",
      "16                                0                               1   \n",
      "17                                0                               2   \n",
      "18                                0                               2   \n",
      "19                                0                               1   \n",
      "20                                1                               1   \n",
      "21                                1                               0   \n",
      "22                                1                               0   \n",
      "23                                1                               0   \n",
      "24                                0                               1   \n",
      "25                                1                               0   \n",
      "26                                0                               1   \n",
      "\n",
      "    Live at start of day  \n",
      "0                     46  \n",
      "1                     45  \n",
      "2                     44  \n",
      "3                     43  \n",
      "4                     42  \n",
      "5                     40  \n",
      "6                     39  \n",
      "7                     38  \n",
      "8                     37  \n",
      "9                     35  \n",
      "10                    33  \n",
      "11                    32  \n",
      "12                    31  \n",
      "13                    30  \n",
      "14                    29  \n",
      "15                    28  \n",
      "16                    27  \n",
      "17                    25  \n",
      "18                    23  \n",
      "19                    22  \n",
      "20                    20  \n",
      "21                    19  \n",
      "22                    18  \n",
      "23                    17  \n",
      "24                    16  \n",
      "25                    15  \n",
      "26                    14  \n"
     ]
    }
   ],
   "source": [
    "# Fit a KaplanMeier function\n",
    "kmf = KaplanMeierFitter()\n",
    "time_event = df['Time of event']\n",
    "censoring = df['Total no. of patients died in both groups']\n",
    "print(df)"
   ]
  },
  {
   "cell_type": "code",
   "execution_count": 82,
   "metadata": {},
   "outputs": [
    {
     "data": {
      "text/plain": [
       "<Axes: xlabel='timeline'>"
      ]
     },
     "execution_count": 82,
     "metadata": {},
     "output_type": "execute_result"
    },
    {
     "data": {
      "image/png": "[encoded data removed]",
      "text/plain": [
       "<Figure size 640x480 with 1 Axes>"
      ]
     },
     "metadata": {},
     "output_type": "display_data"
    }
   ],
   "source": [
    "# Fit a KaplanMeier curve \n",
    "results = kmf.fit(time_event, censoring)\n",
    "kmf.plot()"
   ]
  },
  {
   "cell_type": "code",
   "execution_count": 83,
   "metadata": {},
   "outputs": [],
   "source": [
    "# Fit a KaplanMeier function\n",
    "\n",
    "kmf_ART = KaplanMeierFitter()\n",
    "kmf_AT = KaplanMeierFitter()\n",
    "\n",
    "time_event = df['Time of event']\n",
    "censoring_ART = df['No of patients died - ART group']\n",
    "censoring_AT = df['No of patients died - AT group']"
   ]
  },
  {
   "cell_type": "code",
   "execution_count": 84,
   "metadata": {},
   "outputs": [
    {
     "data": {
      "text/plain": [
       "<matplotlib.legend.Legend at 0x169a16d90>"
      ]
     },
     "execution_count": 84,
     "metadata": {},
     "output_type": "execute_result"
    },
    {
     "data": {
      "image/png": "[encoded data removed]",
      "text/plain": [
       "<Figure size 640x480 with 1 Axes>"
      ]
     },
     "metadata": {},
     "output_type": "display_data"
    }
   ],
   "source": [
    "# Fit a KaplanMeier curve \n",
    "results_ART = kmf.fit(time_event, censoring_ART)\n",
    "results_ART.plot(label=\"ART\")\n",
    "\n",
    "# Fit a KaplanMeier curve \n",
    "results_AT = kmf.fit(time_event, censoring_AT)\n",
    "results_AT.plot(label=\"AT\")\n",
    "\n",
    "plt.xlabel(\"Days passed\")\n",
    "plt.ylabel(\"Cumulative survival\")\n",
    "plt.title(\"Kaplan-Meier Curves for Overall and by Treatment Group\")\n",
    "plt.legend()"
   ]
  },
  {
   "attachments": {},
   "cell_type": "markdown",
   "metadata": {},
   "source": [
    "# Log rank test"
   ]
  },
  {
   "cell_type": "code",
   "execution_count": 85,
   "metadata": {},
   "outputs": [
    {
     "name": "stdout",
     "output_type": "stream",
     "text": [
      "   test_statistic         p  -log2(p)\n",
      "0        0.034723  0.852178  0.230773\n"
     ]
    }
   ],
   "source": [
    "# Test for significant difference in survival between treatment groups using log-rank test\n",
    "from lifelines.statistics import logrank_test\n",
    "results=logrank_test(time_event, time_event, \n",
    "                     event_observed_A=censoring_ART, \n",
    "                     event_observed_B=censoring_AT)\n",
    "print(results.summary)"
   ]
  },
  {
   "attachments": {},
   "cell_type": "markdown",
   "metadata": {},
   "source": [
    "# Hazard ratio and cumulative hazard function curve"
   ]
  },
  {
   "cell_type": "code",
   "execution_count": 86,
   "metadata": {},
   "outputs": [
    {
     "data": {
      "text/html": [
       "<div>\n",
       "<style scoped>\n",
       "    .dataframe tbody tr th:only-of-type {\n",
       "        vertical-align: middle;\n",
       "    }\n",
       "\n",
       "    .dataframe tbody tr th {\n",
       "        vertical-align: top;\n",
       "    }\n",
       "\n",
       "    .dataframe thead th {\n",
       "        text-align: right;\n",
       "    }\n",
       "</style>\n",
       "<table border=\"1\" class=\"dataframe\">\n",
       "  <thead>\n",
       "    <tr style=\"text-align: right;\">\n",
       "      <th></th>\n",
       "      <th>NA_estimate</th>\n",
       "    </tr>\n",
       "    <tr>\n",
       "      <th>timeline</th>\n",
       "      <th></th>\n",
       "    </tr>\n",
       "  </thead>\n",
       "  <tbody>\n",
       "    <tr>\n",
       "      <th>0.0</th>\n",
       "      <td>0.000000</td>\n",
       "    </tr>\n",
       "    <tr>\n",
       "      <th>6.0</th>\n",
       "      <td>0.037037</td>\n",
       "    </tr>\n",
       "    <tr>\n",
       "      <th>9.0</th>\n",
       "      <td>0.075499</td>\n",
       "    </tr>\n",
       "    <tr>\n",
       "      <th>12.0</th>\n",
       "      <td>0.115499</td>\n",
       "    </tr>\n",
       "    <tr>\n",
       "      <th>13.0</th>\n",
       "      <td>0.157165</td>\n",
       "    </tr>\n",
       "    <tr>\n",
       "      <th>21.0</th>\n",
       "      <td>0.200644</td>\n",
       "    </tr>\n",
       "    <tr>\n",
       "      <th>27.0</th>\n",
       "      <td>0.246098</td>\n",
       "    </tr>\n",
       "    <tr>\n",
       "      <th>32.0</th>\n",
       "      <td>0.293717</td>\n",
       "    </tr>\n",
       "    <tr>\n",
       "      <th>38.0</th>\n",
       "      <td>0.343717</td>\n",
       "    </tr>\n",
       "    <tr>\n",
       "      <th>39.0</th>\n",
       "      <td>0.396349</td>\n",
       "    </tr>\n",
       "    <tr>\n",
       "      <th>43.0</th>\n",
       "      <td>0.451904</td>\n",
       "    </tr>\n",
       "    <tr>\n",
       "      <th>49.0</th>\n",
       "      <td>0.510728</td>\n",
       "    </tr>\n",
       "    <tr>\n",
       "      <th>89.0</th>\n",
       "      <td>0.573228</td>\n",
       "    </tr>\n",
       "    <tr>\n",
       "      <th>93.0</th>\n",
       "      <td>0.639894</td>\n",
       "    </tr>\n",
       "    <tr>\n",
       "      <th>105.0</th>\n",
       "      <td>0.711323</td>\n",
       "    </tr>\n",
       "    <tr>\n",
       "      <th>114.0</th>\n",
       "      <td>0.788246</td>\n",
       "    </tr>\n",
       "    <tr>\n",
       "      <th>126.0</th>\n",
       "      <td>0.871579</td>\n",
       "    </tr>\n",
       "    <tr>\n",
       "      <th>218.0</th>\n",
       "      <td>0.962488</td>\n",
       "    </tr>\n",
       "    <tr>\n",
       "      <th>245.0</th>\n",
       "      <td>1.062488</td>\n",
       "    </tr>\n",
       "    <tr>\n",
       "      <th>251.0</th>\n",
       "      <td>1.173600</td>\n",
       "    </tr>\n",
       "    <tr>\n",
       "      <th>253.0</th>\n",
       "      <td>1.298600</td>\n",
       "    </tr>\n",
       "    <tr>\n",
       "      <th>254.0</th>\n",
       "      <td>1.441457</td>\n",
       "    </tr>\n",
       "    <tr>\n",
       "      <th>261.0</th>\n",
       "      <td>1.608123</td>\n",
       "    </tr>\n",
       "    <tr>\n",
       "      <th>263.0</th>\n",
       "      <td>1.808123</td>\n",
       "    </tr>\n",
       "    <tr>\n",
       "      <th>270.0</th>\n",
       "      <td>2.058123</td>\n",
       "    </tr>\n",
       "    <tr>\n",
       "      <th>301.0</th>\n",
       "      <td>2.391457</td>\n",
       "    </tr>\n",
       "    <tr>\n",
       "      <th>311.0</th>\n",
       "      <td>2.891457</td>\n",
       "    </tr>\n",
       "    <tr>\n",
       "      <th>333.0</th>\n",
       "      <td>3.891457</td>\n",
       "    </tr>\n",
       "  </tbody>\n",
       "</table>\n",
       "</div>"
      ],
      "text/plain": [
       "          NA_estimate\n",
       "timeline             \n",
       "0.0          0.000000\n",
       "6.0          0.037037\n",
       "9.0          0.075499\n",
       "12.0         0.115499\n",
       "13.0         0.157165\n",
       "21.0         0.200644\n",
       "27.0         0.246098\n",
       "32.0         0.293717\n",
       "38.0         0.343717\n",
       "39.0         0.396349\n",
       "43.0         0.451904\n",
       "49.0         0.510728\n",
       "89.0         0.573228\n",
       "93.0         0.639894\n",
       "105.0        0.711323\n",
       "114.0        0.788246\n",
       "126.0        0.871579\n",
       "218.0        0.962488\n",
       "245.0        1.062488\n",
       "251.0        1.173600\n",
       "253.0        1.298600\n",
       "254.0        1.441457\n",
       "261.0        1.608123\n",
       "263.0        1.808123\n",
       "270.0        2.058123\n",
       "301.0        2.391457\n",
       "311.0        2.891457\n",
       "333.0        3.891457"
      ]
     },
     "execution_count": 86,
     "metadata": {},
     "output_type": "execute_result"
    }
   ],
   "source": [
    "# Fit cumulative hazard function\n",
    "from lifelines import NelsonAalenFitter\n",
    "naf = NelsonAalenFitter()\n",
    "naf.fit(df['Time of event'], event_observed = df['Total no. of patients died in both groups'])\n",
    "\n",
    "naf.cumulative_hazard_\n"
   ]
  },
  {
   "cell_type": "code",
   "execution_count": 87,
   "metadata": {},
   "outputs": [
    {
     "data": {
      "text/plain": [
       "<matplotlib.legend.Legend at 0x168d3ed90>"
      ]
     },
     "execution_count": 87,
     "metadata": {},
     "output_type": "execute_result"
    },
    {
     "data": {
      "image/png": "[encoded data removed]",
      "text/plain": [
       "<Figure size 640x480 with 1 Axes>"
      ]
     },
     "metadata": {},
     "output_type": "display_data"
    }
   ],
   "source": [
    "# Plot the cumulative_hazard\n",
    "naf.plot_cumulative_hazard(label=\"Cumulative_hazard for both groups\")\n",
    "plt.xlabel(\"Time (days)\")\n",
    "plt.ylabel(\"Cumulative hazard\")\n",
    "plt.title(\"Cumulative hazard: ANT and AT\")\n",
    "plt.legend()"
   ]
  }
 ],
 "metadata": {
  "kernelspec": {
   "display_name": "base",
   "language": "python",
   "name": "python3"
  },
  "language_info": {
   "codemirror_mode": {
    "name": "ipython",
    "version": 3
   },
   "file_extension": ".py",
   "mimetype": "text/x-python",
   "name": "python",
   "nbconvert_exporter": "python",
   "pygments_lexer": "ipython3",
   "version": "3.11.2"
  },
  "orig_nbformat": 4
 },
 "nbformat": 4,
 "nbformat_minor": 2
}
